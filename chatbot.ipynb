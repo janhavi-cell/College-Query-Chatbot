{
  "cells": [
    {
      "cell_type": "code",
      "execution_count": null,
      "metadata": {
        "id": "T_7gpAgR2kEr"
      },
      "outputs": [],
      "source": [
        "import json\n",
        "\n",
        "# Replace 'filename.json' with the actual name of your JSON file\n",
        "with open('/content/intents.json', 'r') as f:\n",
        "    data = json.load(f)"
      ]
    },
    {
      "cell_type": "code",
      "execution_count": null,
      "metadata": {
        "colab": {
          "base_uri": "https://localhost:8080/"
        },
        "id": "I6LVmh533UtS",
        "outputId": "afcbbbf9-94e9-45d4-be6a-97d422a971d7"
      },
      "outputs": [
        {
          "name": "stderr",
          "output_type": "stream",
          "text": [
            "[nltk_data] Downloading package punkt to /root/nltk_data...\n",
            "[nltk_data]   Unzipping tokenizers/punkt.zip.\n"
          ]
        },
        {
          "data": {
            "text/plain": [
              "True"
            ]
          },
          "execution_count": 7,
          "metadata": {},
          "output_type": "execute_result"
        }
      ],
      "source": [
        "import nltk\n",
        "nltk.download('punkt')"
      ]
    },
    {
      "cell_type": "code",
      "execution_count": null,
      "metadata": {
        "colab": {
          "base_uri": "https://localhost:8080/"
        },
        "id": "ut-orjqj3e-I",
        "outputId": "0a067b56-1aa9-4fa4-9c55-31d8df007dd1"
      },
      "outputs": [
        {
          "name": "stderr",
          "output_type": "stream",
          "text": [
            "[nltk_data] Downloading package wordnet to /root/nltk_data...\n"
          ]
        },
        {
          "data": {
            "text/plain": [
              "True"
            ]
          },
          "execution_count": 9,
          "metadata": {},
          "output_type": "execute_result"
        }
      ],
      "source": [
        "import nltk\n",
        "nltk.download('wordnet')"
      ]
    },
    {
      "cell_type": "code",
      "execution_count": null,
      "metadata": {
        "colab": {
          "background_save": true,
          "base_uri": "https://localhost:8080/"
        },
        "id": "zfGBwKsf24ZZ",
        "outputId": "1b2a10e6-f173-4fe2-c1d2-c06ceb4c9713"
      },
      "outputs": [
        {
          "name": "stdout",
          "output_type": "stream",
          "text": [
            "|============= Welcome to College Equiry Chatbot System! =============|\n",
            "|============================== Feel Free ============================|\n",
            "|================================== To ===============================|\n",
            "|=============== Ask your any query about our college ================|\n",
            "1/1 [==============================] - 0s 167ms/step\n",
            "| Bot: Hello!\n",
            "1/1 [==============================] - 0s 23ms/step\n",
            "| Bot: You can call me Ribot\n",
            "1/1 [==============================] - 0s 25ms/step\n",
            "| Bot: Informatics College Pokhara has been in direct partnership with London Metropolitan University, \n",
            "UK to provide enviable higher education in IT and Business to students in Pokhara.\n",
            "For Bachelors Degree in Information Technology we have been offering the specialization in BSc (Hons) Computing.\n",
            "For Bachelors in Business Administration we have been offering the followings:\n",
            "\n",
            "1. BBA (Marketing) with International Business \n",
            "\n",
            "2. BBA (Accounting & Finance) with International Business\n",
            "\n",
            "3. BBA (International Business)\n",
            "1/1 [==============================] - 0s 42ms/step\n",
            "| Bot: Informatics College Pokhara is located in Matepani-12, pokhara near Gandaki Hospital.\n",
            "1/1 [==============================] - 0s 22ms/step\n",
            "| Bot: Academic Level\n",
            "NEB +2 overall aggregate of 2.2 CGPA (55%) or above with each subject (theory and practical) grade D+ or above, and SEE Mathematics score of C+ ( 50%) or above.\n",
            "For A-Levels, a minimum of 3.5 credits and atleast a grade of D and above.\n",
            "\n",
            "English Proficiency\n",
            "English NEB XII Marks greater or equals to 60% or 2.4 GPA\n",
            "For Level 4 or Year 1 BIT\n",
            "Pass in General Paper or English Language or IELTS 5.5 or PTE 47/ Meeting UCAS Tariff points of 80.\n",
            "For Level 4 or Year 1 BBA\n",
            "Pass in General Paper or English Language or IELTS 5.5 or PTE 47/ Meeting UCAS Tariff points of 96.\n",
            "1/1 [==============================] - 0s 22ms/step\n",
            "| Bot: Happy to help!\n",
            "1/1 [==============================] - 0s 21ms/step\n",
            "| Bot: Talk you later\n",
            "|===================== The Program End here! =====================|\n"
          ]
        }
      ],
      "source": [
        "\n",
        "import random\n",
        "import json\n",
        "import pickle\n",
        "import numpy as np\n",
        "\n",
        "import nltk\n",
        "from nltk.stem import WordNetLemmatizer\n",
        "\n",
        "from tensorflow.keras.models import load_model\n",
        "\n",
        "\n",
        "lemmatizer = WordNetLemmatizer()\n",
        "\n",
        "intents = json.loads(open('/content/intents.json').read())\n",
        "\n",
        "words = pickle.load(open('/content/words.pkl', 'rb'))\n",
        "classes = pickle.load(open('/content/classes.pkl', 'rb'))\n",
        "model = load_model('/content/chatbotmodel.h5')\n",
        "\n",
        "def clean_up_sentence(sentence):\n",
        "    sentence_words = nltk.word_tokenize(sentence)\n",
        "    sentence_words = [lemmatizer.lemmatize(word)  for word in sentence_words]\n",
        "    return sentence_words\n",
        "\n",
        "def bag_of_words(sentence):\n",
        "    sentence_words= clean_up_sentence(sentence)\n",
        "    bag = [0] * len(words)\n",
        "    for w in sentence_words:\n",
        "        for i, word in enumerate(words):\n",
        "            if word == w:\n",
        "                bag[i] = 1\n",
        "\n",
        "    return np.array(bag)\n",
        "\n",
        "def predict_class(sentence):\n",
        "    bow = bag_of_words(sentence)\n",
        "    res = model.predict(np.array([bow]))[0]\n",
        "    ERROR_THRESHOLD = 0.25\n",
        "    results = [[i,r] for i, r in enumerate(res) if r > ERROR_THRESHOLD]\n",
        "\n",
        "    results.sort(key=lambda  x:x[1], reverse=True)\n",
        "    return_list = []\n",
        "    for r in results:\n",
        "        return_list.append({'intent': classes[r[0]], 'probability': str(r[1])})\n",
        "    return return_list\n",
        "\n",
        "\n",
        "def get_response(intents_list,intents_json):\n",
        "    tag= intents_list[0]['intent']\n",
        "    list_of_intents =intents_json['intents']\n",
        "    for i in list_of_intents:\n",
        "        if i['tag'] == tag:\n",
        "            result = random.choice(i['responses'])\n",
        "            break\n",
        "    return result\n",
        "\n",
        "print(\"|============= Welcome to College Equiry Chatbot System! =============|\")\n",
        "print(\"|============================== Feel Free ============================|\")\n",
        "print(\"|================================== To ===============================|\")\n",
        "print(\"|=============== Ask your any query about our college ================|\")\n",
        "while True:\n",
        "    message = input(\"| You: \")\n",
        "    if message == \"bye\" or message == \"Goodbye\":\n",
        "        ints = predict_class(message)\n",
        "        res = get_response(ints, intents)\n",
        "        print(\"| Bot:\", res)\n",
        "        print(\"|===================== The Program End here! =====================|\")\n",
        "        exit()\n",
        "\n",
        "    else:\n",
        "        ints = predict_class(message)\n",
        "        res = get_response(ints, intents)\n",
        "        print(\"| Bot:\", res)"
      ]
    }
  ],
  "metadata": {
    "colab": {
      "provenance": []
    },
    "kernelspec": {
      "display_name": "Python 3",
      "name": "python3"
    },
    "language_info": {
      "name": "python"
    }
  },
  "nbformat": 4,
  "nbformat_minor": 0
}